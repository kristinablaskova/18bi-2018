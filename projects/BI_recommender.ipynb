{
 "cells": [
  {
   "cell_type": "markdown",
   "metadata": {},
   "source": [
    "## I like Dune and the Lord of the Rings, tell me what I should read next"
   ]
  },
  {
   "cell_type": "markdown",
   "metadata": {},
   "source": [
    "This is to build a simple recommender system based on the books one likes. We expect the person to like 2 books. Please, fill in the books:"
   ]
  },
  {
   "cell_type": "code",
   "execution_count": 78,
   "metadata": {},
   "outputs": [
    {
     "data": {
      "application/vnd.jupyter.widget-view+json": {
       "model_id": "d6993d52f78b45b7b9782a1fd1dc8793",
       "version_major": 2,
       "version_minor": 0
      },
      "text/plain": [
       "Tab(children=(Accordion(children=(Textarea(value=''), Textarea(value='')), _titles={'1': 'Authors surname:', '…"
      ]
     },
     "metadata": {},
     "output_type": "display_data"
    }
   ],
   "source": [
    "import ipywidgets as widgets\n",
    "import pandas as pd\n",
    "import warnings\n",
    "import numpy as np\n",
    "\n",
    "warnings.filterwarnings('ignore')\n",
    "\n",
    "# CREATE A WIDGET TO GATHER BOOK INFORMATION\n",
    "\n",
    "accordion = widgets.Accordion(children=[widgets.Textarea(), widgets.Textarea()])\n",
    "accordion.set_title(0, 'Book name:')\n",
    "accordion.set_title(1, 'Authors surname:')\n",
    "\n",
    "accordion1 = widgets.Accordion(children=[widgets.Textarea(), widgets.Textarea()])\n",
    "accordion1.set_title(0, 'Book name:')\n",
    "accordion1.set_title(1, 'Authors surname:')\n",
    "\n",
    "tab_nest = widgets.Tab()\n",
    "tab_nest.children = [accordion, accordion1]\n",
    "tab_nest.set_title(0, '1st book')\n",
    "tab_nest.set_title(1, '2nd book')\n",
    "tab_nest"
   ]
  },
  {
   "cell_type": "code",
   "execution_count": 79,
   "metadata": {},
   "outputs": [],
   "source": [
    "# ASSIGN THE WIDGET VALUES TO VARIABLES\n",
    "\n",
    "book1_name = tab_nest.children[0].children[0].value\n",
    "book1_author = tab_nest.children[0].children[1].value\n",
    "book2_name = tab_nest.children[1].children[0].value\n",
    "book2_author = tab_nest.children[1].children[1].value"
   ]
  },
  {
   "cell_type": "markdown",
   "metadata": {},
   "source": [
    "Let us look at our database."
   ]
  },
  {
   "cell_type": "code",
   "execution_count": 80,
   "metadata": {},
   "outputs": [
    {
     "data": {
      "text/html": [
       "<div>\n",
       "<style scoped>\n",
       "    .dataframe tbody tr th:only-of-type {\n",
       "        vertical-align: middle;\n",
       "    }\n",
       "\n",
       "    .dataframe tbody tr th {\n",
       "        vertical-align: top;\n",
       "    }\n",
       "\n",
       "    .dataframe thead th {\n",
       "        text-align: right;\n",
       "    }\n",
       "</style>\n",
       "<table border=\"1\" class=\"dataframe\">\n",
       "  <thead>\n",
       "    <tr style=\"text-align: right;\">\n",
       "      <th></th>\n",
       "      <th>ISBN</th>\n",
       "      <th>Book-Title</th>\n",
       "      <th>Book-Author</th>\n",
       "      <th>Year-Of-Publication</th>\n",
       "      <th>Publisher</th>\n",
       "    </tr>\n",
       "  </thead>\n",
       "  <tbody>\n",
       "    <tr>\n",
       "      <th>0</th>\n",
       "      <td>0195153448</td>\n",
       "      <td>Classical Mythology</td>\n",
       "      <td>Mark P. O. Morford</td>\n",
       "      <td>2002</td>\n",
       "      <td>Oxford University Press</td>\n",
       "    </tr>\n",
       "    <tr>\n",
       "      <th>1</th>\n",
       "      <td>0002005018</td>\n",
       "      <td>Clara Callan</td>\n",
       "      <td>Richard Bruce Wright</td>\n",
       "      <td>2001</td>\n",
       "      <td>HarperFlamingo Canada</td>\n",
       "    </tr>\n",
       "    <tr>\n",
       "      <th>2</th>\n",
       "      <td>0060973129</td>\n",
       "      <td>Decision in Normandy</td>\n",
       "      <td>Carlo D'Este</td>\n",
       "      <td>1991</td>\n",
       "      <td>HarperPerennial</td>\n",
       "    </tr>\n",
       "    <tr>\n",
       "      <th>3</th>\n",
       "      <td>0374157065</td>\n",
       "      <td>Flu: The Story of the Great Influenza Pandemic...</td>\n",
       "      <td>Gina Bari Kolata</td>\n",
       "      <td>1999</td>\n",
       "      <td>Farrar Straus Giroux</td>\n",
       "    </tr>\n",
       "    <tr>\n",
       "      <th>4</th>\n",
       "      <td>0393045218</td>\n",
       "      <td>The Mummies of Urumchi</td>\n",
       "      <td>E. J. W. Barber</td>\n",
       "      <td>1999</td>\n",
       "      <td>W. W. Norton &amp;amp; Company</td>\n",
       "    </tr>\n",
       "  </tbody>\n",
       "</table>\n",
       "</div>"
      ],
      "text/plain": [
       "         ISBN                                         Book-Title  \\\n",
       "0  0195153448                                Classical Mythology   \n",
       "1  0002005018                                       Clara Callan   \n",
       "2  0060973129                               Decision in Normandy   \n",
       "3  0374157065  Flu: The Story of the Great Influenza Pandemic...   \n",
       "4  0393045218                             The Mummies of Urumchi   \n",
       "\n",
       "            Book-Author  Year-Of-Publication                   Publisher  \n",
       "0    Mark P. O. Morford                 2002     Oxford University Press  \n",
       "1  Richard Bruce Wright                 2001       HarperFlamingo Canada  \n",
       "2          Carlo D'Este                 1991             HarperPerennial  \n",
       "3      Gina Bari Kolata                 1999        Farrar Straus Giroux  \n",
       "4       E. J. W. Barber                 1999  W. W. Norton &amp; Company  "
      ]
     },
     "execution_count": 80,
     "metadata": {},
     "output_type": "execute_result"
    }
   ],
   "source": [
    "# LOAD DATAFRAME OF BOOKS\n",
    "\n",
    "books_url = 'BX-CSV-Dump/BX-Books.csv'\n",
    "\n",
    "# imports only first 5 relevant columns (others are just image urls), uses latin1 encoding while it otherwise reported\n",
    "# error, uses different separator while quotechar didnt work\n",
    "books = pd.read_csv(books_url, sep='\";\"', skipinitialspace=True, error_bad_lines=False, encoding='latin1',\n",
    "                    usecols=[0, 1, 2, 3, 4])\n",
    "\n",
    "# getting rid of irrelevant quotes produced by chosen separator\n",
    "books.rename(columns={'\"ISBN': 'ISBN'}, inplace=True)\n",
    "books['ISBN'] = books['ISBN'].str[1:]\n",
    "\n",
    "# exporting new csv\n",
    "clean_books = books.copy()\n",
    "clean_books.head()"
   ]
  },
  {
   "cell_type": "markdown",
   "metadata": {},
   "source": [
    "To recommend you the best books, we compare you to similar users. Let us load our user database."
   ]
  },
  {
   "cell_type": "code",
   "execution_count": 81,
   "metadata": {},
   "outputs": [
    {
     "data": {
      "text/html": [
       "<div>\n",
       "<style scoped>\n",
       "    .dataframe tbody tr th:only-of-type {\n",
       "        vertical-align: middle;\n",
       "    }\n",
       "\n",
       "    .dataframe tbody tr th {\n",
       "        vertical-align: top;\n",
       "    }\n",
       "\n",
       "    .dataframe thead th {\n",
       "        text-align: right;\n",
       "    }\n",
       "</style>\n",
       "<table border=\"1\" class=\"dataframe\">\n",
       "  <thead>\n",
       "    <tr style=\"text-align: right;\">\n",
       "      <th></th>\n",
       "      <th>User-ID</th>\n",
       "      <th>Location</th>\n",
       "      <th>Age</th>\n",
       "    </tr>\n",
       "  </thead>\n",
       "  <tbody>\n",
       "    <tr>\n",
       "      <th>0</th>\n",
       "      <td>1</td>\n",
       "      <td>nyc, new york, usa</td>\n",
       "      <td>NaN</td>\n",
       "    </tr>\n",
       "    <tr>\n",
       "      <th>1</th>\n",
       "      <td>2</td>\n",
       "      <td>stockton, california, usa</td>\n",
       "      <td>18.0</td>\n",
       "    </tr>\n",
       "    <tr>\n",
       "      <th>2</th>\n",
       "      <td>3</td>\n",
       "      <td>moscow, yukon territory, russia</td>\n",
       "      <td>NaN</td>\n",
       "    </tr>\n",
       "    <tr>\n",
       "      <th>3</th>\n",
       "      <td>4</td>\n",
       "      <td>porto, v.n.gaia, portugal</td>\n",
       "      <td>17.0</td>\n",
       "    </tr>\n",
       "    <tr>\n",
       "      <th>4</th>\n",
       "      <td>5</td>\n",
       "      <td>farnborough, hants, united kingdom</td>\n",
       "      <td>NaN</td>\n",
       "    </tr>\n",
       "  </tbody>\n",
       "</table>\n",
       "</div>"
      ],
      "text/plain": [
       "   User-ID                            Location   Age\n",
       "0        1                  nyc, new york, usa   NaN\n",
       "1        2           stockton, california, usa  18.0\n",
       "2        3     moscow, yukon territory, russia   NaN\n",
       "3        4           porto, v.n.gaia, portugal  17.0\n",
       "4        5  farnborough, hants, united kingdom   NaN"
      ]
     },
     "execution_count": 81,
     "metadata": {},
     "output_type": "execute_result"
    }
   ],
   "source": [
    "# LOAD DATAFRAME OF USERS\n",
    "\n",
    "users = pd.read_csv('BX-CSV-Dump/BX-Users.csv', sep=';', error_bad_lines=False, encoding='latin1')\n",
    "users.head()"
   ]
  },
  {
   "cell_type": "markdown",
   "metadata": {},
   "source": [
    "Our database is complicated and therefore we store user ratings in a different table:"
   ]
  },
  {
   "cell_type": "code",
   "execution_count": 82,
   "metadata": {},
   "outputs": [
    {
     "data": {
      "text/html": [
       "<div>\n",
       "<style scoped>\n",
       "    .dataframe tbody tr th:only-of-type {\n",
       "        vertical-align: middle;\n",
       "    }\n",
       "\n",
       "    .dataframe tbody tr th {\n",
       "        vertical-align: top;\n",
       "    }\n",
       "\n",
       "    .dataframe thead th {\n",
       "        text-align: right;\n",
       "    }\n",
       "</style>\n",
       "<table border=\"1\" class=\"dataframe\">\n",
       "  <thead>\n",
       "    <tr style=\"text-align: right;\">\n",
       "      <th></th>\n",
       "      <th>User-ID</th>\n",
       "      <th>ISBN</th>\n",
       "      <th>Book-Rating</th>\n",
       "    </tr>\n",
       "  </thead>\n",
       "  <tbody>\n",
       "    <tr>\n",
       "      <th>0</th>\n",
       "      <td>276725</td>\n",
       "      <td>034545104X</td>\n",
       "      <td>0</td>\n",
       "    </tr>\n",
       "    <tr>\n",
       "      <th>1</th>\n",
       "      <td>276726</td>\n",
       "      <td>0155061224</td>\n",
       "      <td>5</td>\n",
       "    </tr>\n",
       "    <tr>\n",
       "      <th>2</th>\n",
       "      <td>276727</td>\n",
       "      <td>0446520802</td>\n",
       "      <td>0</td>\n",
       "    </tr>\n",
       "    <tr>\n",
       "      <th>3</th>\n",
       "      <td>276729</td>\n",
       "      <td>052165615X</td>\n",
       "      <td>3</td>\n",
       "    </tr>\n",
       "    <tr>\n",
       "      <th>4</th>\n",
       "      <td>276729</td>\n",
       "      <td>0521795028</td>\n",
       "      <td>6</td>\n",
       "    </tr>\n",
       "  </tbody>\n",
       "</table>\n",
       "</div>"
      ],
      "text/plain": [
       "   User-ID        ISBN  Book-Rating\n",
       "0   276725  034545104X            0\n",
       "1   276726  0155061224            5\n",
       "2   276727  0446520802            0\n",
       "3   276729  052165615X            3\n",
       "4   276729  0521795028            6"
      ]
     },
     "execution_count": 82,
     "metadata": {},
     "output_type": "execute_result"
    }
   ],
   "source": [
    "# Load the book ratings data set\n",
    "ratings_url = 'BX-CSV-Dump/BX-Book-Ratings.csv'\n",
    "ratings = pd.read_csv(ratings_url, sep=';', error_bad_lines=False, encoding='latin1')\n",
    "ratings.head()"
   ]
  },
  {
   "cell_type": "markdown",
   "metadata": {},
   "source": [
    "Now we get our hands dirty. We will look for the list of books, which fit the name and author you provided:"
   ]
  },
  {
   "cell_type": "code",
   "execution_count": 83,
   "metadata": {},
   "outputs": [],
   "source": [
    "# FIND DUNE BOOKS\n",
    "\n",
    "dune_filter = np.logical_and(clean_books['Book-Title'].str.contains(book2_name),\n",
    "                             clean_books['Book-Author'].str.contains(book2_author))\n",
    "dune_books = clean_books[dune_filter]\n",
    "\n",
    "# FIND LOTR BOOKS\n",
    "\n",
    "lotr_filter = np.logical_and(clean_books['Book-Title'].str.contains(book1_name),\n",
    "                             clean_books['Book-Author'].str.contains(book1_author))\n",
    "lotr_books = clean_books[lotr_filter]"
   ]
  },
  {
   "cell_type": "markdown",
   "metadata": {},
   "source": [
    "The idea is to find a similar person to you. But who is you?\n",
    "We define you as a person who could possibly read any of the books fitting your criteria and would rate them as 10. \n",
    "So we take every book fitting the criteria, assign it your id (I hope an id=12345678 works for you) and give them all a rating of 10."
   ]
  },
  {
   "cell_type": "code",
   "execution_count": 84,
   "metadata": {},
   "outputs": [],
   "source": [
    "# GENERATE OUR READER: a person, who gave all dune and all lotr books 10 out of 10 rating\n",
    "\n",
    "# generates the reader and assigns him a User-ID and rating for the books he likes\n",
    "def generate_reader(books, uid=12345678, rating=10):\n",
    "    \"\"\"Generates reader DataFrame by books he should like and assigns his rating.\n",
    "\n",
    "    :rtype: pd.DataFrame\n",
    "    :return: DataFrame of user and his ratings for books.\n",
    "    :argument books: DataFrame of books.\n",
    "    :type books: pd.DataFrame\n",
    "    \"\"\"\n",
    "    reader = pd.DataFrame(columns=['ISBN', 'User-ID', 'Book-Rating'])\n",
    "    reader['ISBN'] = books['ISBN'].copy()\n",
    "    reader['Book-Rating'] = rating\n",
    "    reader['User-ID'] = uid\n",
    "    return reader\n",
    "\n",
    "lotr_reader = generate_reader(lotr_books)\n",
    "dune_reader = generate_reader(dune_books)\n",
    "del lotr_books\n",
    "del dune_books\n",
    "\n",
    "the_user = pd.concat([lotr_reader, dune_reader])"
   ]
  },
  {
   "cell_type": "markdown",
   "metadata": {},
   "source": [
    "A similar person to you, read at least one of the Lord of the Ring books and one of the Dune books. In general, he must have read at least 1 from both sets of books fitting your criteria. Now this would be a broad scale of people, therefore we choose to sort them based on how similar the rating is. We evaluate it by calculating the cosine similarity. For every book you rated as 10, we go through all other users who rated this book and calculate the difference between these 2 ratings. If there are more books in common, we work with vectors."
   ]
  },
  {
   "cell_type": "code",
   "execution_count": 88,
   "metadata": {},
   "outputs": [],
   "source": [
    "# picks users that read at least one of the dune books AND at least one of the lotr books\n",
    "def calculate_similar(user, others: pd.DataFrame):\n",
    "    \"\"\"Calculates similarity between user and other users ratings. Picks users that read at least one of Dune and one\n",
    "    of Lotr books.\n",
    "\n",
    "    :argument user: User ratings data frame which similarity to others will be calculated.\n",
    "    :type user: pd.DataFrame\n",
    "    :argument others: DataFrame of ratings of other users.\n",
    "    :type others: pd.DataFrame\n",
    "    :return: User similarity data frame.\n",
    "    :rtype: pd.DataFrame\"\"\"\n",
    "\n",
    "    dune_raters = others[others['ISBN'].isin(dune_reader['ISBN'])]\n",
    "    lotr_raters = others[others['ISBN'].isin(lotr_reader['ISBN'])]\n",
    "    # After small experiments I decided to let users who don't rate books in set of all users.\n",
    "    # Because their similarity was low, but it yielded much larger collection of possibly interesting books.\n",
    "    # That other much more similar to NEW (UNKNOWN) user might like.\n",
    "    # Most importantly it boosted popularity (Readers-Count) that is used to compute final score.\n",
    "    # dune_raters = dune_raters.drop(dune_raters[dune_raters['Book-Rating'] == 0].index)\n",
    "    # lotr_raters = lotr_raters.drop(lotr_raters[lotr_raters['Book-Rating'] == 0].index)\n",
    "    lotr_raters = lotr_raters.drop(lotr_raters[~lotr_raters['User-ID'].isin(dune_raters['User-ID'])].index)\n",
    "    dune_raters = dune_raters.drop(dune_raters[~dune_raters['User-ID'].isin(lotr_raters['User-ID'])].index)\n",
    "    lotr_dune_raters = pd.concat([lotr_raters, dune_raters])\n",
    "\n",
    "    # generates the set of ratings per book\n",
    "    siml_rated = lotr_dune_raters.merge(user, on='ISBN')\n",
    "\n",
    "    # computes the similarity between users with the help of distance function with euclidian metrics on ratings\n",
    "    def euclidean_similarity(grouped):\n",
    "        \"\"\"Calculates similarity between two users (aggregated data frame by User-ID_x) using Euclidean distance as\n",
    "        siml = 1/ (1 + d(u, v)) for u \\in U; v \\in U\\{u}.\n",
    "        :argument grouped: Data frame of ratings of both users.\n",
    "        :type grouped: pd.DataFrame\n",
    "        :return: Similarity calculated from euclidean distance, (0, 1].\n",
    "        :rtype: float\"\"\"\n",
    "        new_user_ratings = grouped.as_matrix(columns=['Book-Rating_y'])\n",
    "        user_rating = grouped.as_matrix(columns=['Book-Rating_x'])\n",
    "        dst_vec = new_user_ratings - user_rating\n",
    "        dst = np.sqrt(dst_vec.transpose().dot(dst_vec))[0][0]\n",
    "        return 1./(1. + dst)\n",
    "\n",
    "    siml = (siml_rated.groupby(['User-ID_x']).apply(euclidean_similarity).reset_index(name='Similarity'))\n",
    "    return siml\n",
    "\n",
    "# here we calculate the similarity using the above functions\n",
    "# we get columns: user-ID (user who read at least 1 dune AND 1 lotr book), Similarity (how much is the rating\n",
    "# similar to ours)\n",
    "sim = calculate_similar(the_user, ratings)\n",
    "\n",
    "# merging ratings and users\n",
    "ratings_with_age = pd.merge(ratings, users, on='User-ID')\n",
    "cols = ['ISBN', 'User-ID', 'Book-Rating', 'Location','Age']\n",
    "ratings_with_age = ratings_with_age[cols]\n",
    "ratings_with_book_and_age = pd.merge(ratings_with_age, books, on='ISBN')\n",
    "rated_book_colls = [cols[0], 'Book-Title', 'Book-Author', 'Year-Of-Publication', 'Publisher'] + cols[1:]\n",
    "ratings_with_book_and_age = ratings_with_book_and_age[rated_book_colls]"
   ]
  },
  {
   "cell_type": "markdown",
   "metadata": {},
   "source": [
    "Now we have a dataframe of people similar to you. We find the books to recommend, by taking the other books that people similar to you read. We put higher the books, which would recommend people most similar to you. But we also put higher the books, which are frequently read, so that also a popularity of a book is considered."
   ]
  },
  {
   "cell_type": "code",
   "execution_count": 41,
   "metadata": {},
   "outputs": [],
   "source": [
    "\n",
    "# possible books to recommend - which books rated users similar to me?\n",
    "\n",
    "rec_bookset = ratings_with_book_and_age.merge(sim, on='User-ID')\n",
    "rec_bookset = rec_bookset[rec_bookset['Book-Rating'] != 0]\n",
    "\n",
    "# Define a lambda function to compute the weighted mean:\n",
    "weighted_mean = lambda x: np.average(x, weights=rec_bookset.loc[x.index, \"Similarity\"])\n",
    "\n",
    "# Define a dictionary with the functions to apply for a given column:\n",
    "f = {'Book-Rating': weighted_mean, 'Popularity': 'count'}\n",
    "\n",
    "rec_bookset['Popularity'] = 0\n",
    "\n",
    "books_wm = rec_bookset.groupby([\"ISBN\"], as_index=False).agg(f)\n",
    "\n",
    "books_wm['Score'] = books_wm['Popularity'].multiply(books_wm['Book-Rating'])\n",
    "\n",
    "recommended_books = books_wm.sort_values(['Score'], ascending=False).merge(books, on='ISBN')\n",
    "recommended_books = recommended_books.drop_duplicates(subset='ISBN', keep='first')"
   ]
  },
  {
   "cell_type": "markdown",
   "metadata": {},
   "source": [
    "So in the end we recommend you the first 10 best books based on what similar people to you liked the most by rating and which books were the most popular among them."
   ]
  },
  {
   "cell_type": "code",
   "execution_count": 92,
   "metadata": {},
   "outputs": [
    {
     "data": {
      "text/html": [
       "<div>\n",
       "<style scoped>\n",
       "    .dataframe tbody tr th:only-of-type {\n",
       "        vertical-align: middle;\n",
       "    }\n",
       "\n",
       "    .dataframe tbody tr th {\n",
       "        vertical-align: top;\n",
       "    }\n",
       "\n",
       "    .dataframe thead th {\n",
       "        text-align: right;\n",
       "    }\n",
       "</style>\n",
       "<table border=\"1\" class=\"dataframe\">\n",
       "  <thead>\n",
       "    <tr style=\"text-align: right;\">\n",
       "      <th></th>\n",
       "      <th>Book-Title</th>\n",
       "      <th>Book-Author</th>\n",
       "    </tr>\n",
       "  </thead>\n",
       "  <tbody>\n",
       "    <tr>\n",
       "      <th>1</th>\n",
       "      <td>Harry Potter and the Chamber of Secrets (Book 2)</td>\n",
       "      <td>J. K. Rowling</td>\n",
       "    </tr>\n",
       "    <tr>\n",
       "      <th>2</th>\n",
       "      <td>Harry Potter and the Sorcerer's Stone (Harry P...</td>\n",
       "      <td>J. K. Rowling</td>\n",
       "    </tr>\n",
       "    <tr>\n",
       "      <th>3</th>\n",
       "      <td>Harry Potter and the Order of the Phoenix (Boo...</td>\n",
       "      <td>J. K. Rowling</td>\n",
       "    </tr>\n",
       "    <tr>\n",
       "      <th>4</th>\n",
       "      <td>Stranger in a Strange Land (Remembering Tomorrow)</td>\n",
       "      <td>Robert A. Heinlein</td>\n",
       "    </tr>\n",
       "    <tr>\n",
       "      <th>5</th>\n",
       "      <td>Harry Potter and the Goblet of Fire (Book 4)</td>\n",
       "      <td>J. K. Rowling</td>\n",
       "    </tr>\n",
       "    <tr>\n",
       "      <th>6</th>\n",
       "      <td>The Vampire Lestat (Vampire Chronicles, Book II)</td>\n",
       "      <td>ANNE RICE</td>\n",
       "    </tr>\n",
       "    <tr>\n",
       "      <th>7</th>\n",
       "      <td>Harry Potter and the Prisoner of Azkaban (Book 3)</td>\n",
       "      <td>J. K. Rowling</td>\n",
       "    </tr>\n",
       "    <tr>\n",
       "      <th>9</th>\n",
       "      <td>Watership Down</td>\n",
       "      <td>Richard Adams</td>\n",
       "    </tr>\n",
       "    <tr>\n",
       "      <th>10</th>\n",
       "      <td>The Stand (The Complete and Uncut Edition)</td>\n",
       "      <td>Stephen King</td>\n",
       "    </tr>\n",
       "    <tr>\n",
       "      <th>11</th>\n",
       "      <td>The Joy Luck Club</td>\n",
       "      <td>Amy Tan</td>\n",
       "    </tr>\n",
       "  </tbody>\n",
       "</table>\n",
       "</div>"
      ],
      "text/plain": [
       "                                           Book-Title         Book-Author\n",
       "1    Harry Potter and the Chamber of Secrets (Book 2)       J. K. Rowling\n",
       "2   Harry Potter and the Sorcerer's Stone (Harry P...       J. K. Rowling\n",
       "3   Harry Potter and the Order of the Phoenix (Boo...       J. K. Rowling\n",
       "4   Stranger in a Strange Land (Remembering Tomorrow)  Robert A. Heinlein\n",
       "5        Harry Potter and the Goblet of Fire (Book 4)       J. K. Rowling\n",
       "6    The Vampire Lestat (Vampire Chronicles, Book II)           ANNE RICE\n",
       "7   Harry Potter and the Prisoner of Azkaban (Book 3)       J. K. Rowling\n",
       "9                                      Watership Down       Richard Adams\n",
       "10         The Stand (The Complete and Uncut Edition)        Stephen King\n",
       "11                                  The Joy Luck Club             Amy Tan"
      ]
     },
     "execution_count": 92,
     "metadata": {},
     "output_type": "execute_result"
    }
   ],
   "source": [
    "dune_filter = np.logical_and(recommended_books['Book-Title'].str.contains(book2_name),\n",
    "                             recommended_books['Book-Author'].str.contains(book2_author))\n",
    "lotr_filter = np.logical_and(recommended_books['Book-Title'].str.contains(book1_name),\n",
    "                             recommended_books['Book-Author'].str.contains(book1_author))\n",
    "                             \n",
    "recommended_books = recommended_books[~dune_filter]\n",
    "recommended_books = recommended_books[~lotr_filter]\n",
    "\n",
    "recommended_books[['Book-Title', 'Book-Author']][:10]"
   ]
  }
 ],
 "metadata": {
  "kernelspec": {
   "display_name": "Python [conda env:anaconda]",
   "language": "python",
   "name": "conda-env-anaconda-py"
  },
  "language_info": {
   "codemirror_mode": {
    "name": "ipython",
    "version": 3
   },
   "file_extension": ".py",
   "mimetype": "text/x-python",
   "name": "python",
   "nbconvert_exporter": "python",
   "pygments_lexer": "ipython3",
   "version": "3.5.6"
  }
 },
 "nbformat": 4,
 "nbformat_minor": 2
}
